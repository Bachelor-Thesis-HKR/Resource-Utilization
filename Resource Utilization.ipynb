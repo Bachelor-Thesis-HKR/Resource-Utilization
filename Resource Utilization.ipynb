{
 "cells": [
  {
   "cell_type": "markdown",
   "id": "11a59fb5",
   "metadata": {},
   "source": [
    "# Resource Utilization of Pandas and Spark DataFtame "
   ]
  },
  {
   "cell_type": "markdown",
   "id": "ed433105",
   "metadata": {},
   "source": [
    "### Import the required libraries"
   ]
  },
  {
   "cell_type": "code",
   "execution_count": 1,
   "id": "3a14b875",
   "metadata": {},
   "outputs": [],
   "source": [
    "import pandas as pd\n",
    "from pyspark.sql import SparkSession\n",
    "import psutil\n",
    "import time"
   ]
  },
  {
   "cell_type": "markdown",
   "id": "52ffa766",
   "metadata": {},
   "source": [
    "### Create a Spark session to work with Spark DataFrames"
   ]
  },
  {
   "cell_type": "code",
   "execution_count": 2,
   "id": "fee5414f",
   "metadata": {},
   "outputs": [
    {
     "name": "stderr",
     "output_type": "stream",
     "text": [
      "Setting default log level to \"WARN\".\n",
      "To adjust logging level use sc.setLogLevel(newLevel). For SparkR, use setLogLevel(newLevel).\n",
      "23/05/04 18:16:05 WARN NativeCodeLoader: Unable to load native-hadoop library for your platform... using builtin-java classes where applicable\n"
     ]
    }
   ],
   "source": [
    "spark = SparkSession.builder \\\n",
    "    .appName(\"Resource Utilization\") \\\n",
    "    .getOrCreate()"
   ]
  },
  {
   "cell_type": "markdown",
   "id": "3325f5fa",
   "metadata": {},
   "source": [
    "### Loading the Enron email dataset"
   ]
  },
  {
   "cell_type": "code",
   "execution_count": 3,
   "id": "ab91e60d",
   "metadata": {},
   "outputs": [
    {
     "name": "stderr",
     "output_type": "stream",
     "text": [
      "                                                                                \r"
     ]
    }
   ],
   "source": [
    "# Load the dataset using Pandas\n",
    "pandas_df = pd.read_csv(\"emails.csv\")\n",
    "\n",
    "# Load the dataset using Spark\n",
    "spark_df = spark.read.csv(\"emails.csv\", header=True, inferSchema=True)\n"
   ]
  },
  {
   "cell_type": "markdown",
   "id": "22917d21",
   "metadata": {},
   "source": [
    "### Create a function that will utilize the psutil library to measure the CPU, memory, and disk usage before and after executing a given operation."
   ]
  },
  {
   "cell_type": "code",
   "execution_count": 11,
   "id": "8fd94a14",
   "metadata": {},
   "outputs": [],
   "source": [
    "def measure_resource_utilization(operation, dataframe):\n",
    "    # Get initial resource usage\n",
    "    cpu_percent_initial = psutil.cpu_percent()\n",
    "    memory_initial = psutil.virtual_memory().used\n",
    "    disk_initial = psutil.disk_usage('/').used\n",
    "\n",
    "    print(\"Initial resource usage captured.\")\n",
    "\n",
    "    # Perform the operation\n",
    "    try:\n",
    "        start_time = time.time()\n",
    "        operation(dataframe)\n",
    "        end_time = time.time()\n",
    "        print(\"Operation completed.\")\n",
    "    except Exception as e:\n",
    "        print(\"Error during operation:\", e)\n",
    "        return None, None, None, None\n",
    "\n",
    "    # Get final resource usage\n",
    "    cpu_percent_final = psutil.cpu_percent()\n",
    "    memory_final = psutil.virtual_memory().used\n",
    "    disk_final = psutil.disk_usage('/').used\n",
    "\n",
    "    print(\"Final resource usage captured.\")\n",
    "\n",
    "    # Calculate resource usage and time taken\n",
    "    cpu_percent_diff = cpu_percent_final - cpu_percent_initial\n",
    "    memory_diff = memory_final - memory_initial\n",
    "    disk_diff = disk_final - disk_initial\n",
    "    time_taken = end_time - start_time\n",
    "\n",
    "    return cpu_percent_diff, memory_diff, disk_diff, time_taken\n"
   ]
  },
  {
   "cell_type": "markdown",
   "id": "7681ffb8",
   "metadata": {},
   "source": [
    "### Check the column names in the dataset"
   ]
  },
  {
   "cell_type": "code",
   "execution_count": 12,
   "id": "0f2a0a5e",
   "metadata": {},
   "outputs": [
    {
     "name": "stdout",
     "output_type": "stream",
     "text": [
      "Pandas DataFrame columns: Index(['file', 'message'], dtype='object')\n",
      "Spark DataFrame columns: ['file', 'message']\n"
     ]
    }
   ],
   "source": [
    "# Print Pandas DataFrame columns\n",
    "print(\"Pandas DataFrame columns:\", pandas_df.columns)\n",
    "\n",
    "# Print Spark DataFrame columns\n",
    "print(\"Spark DataFrame columns:\", spark_df.columns)"
   ]
  },
  {
   "cell_type": "markdown",
   "id": "75347529",
   "metadata": {},
   "source": [
    "### Define operations we want to execute "
   ]
  },
  {
   "cell_type": "code",
   "execution_count": 13,
   "id": "b2c6d602",
   "metadata": {},
   "outputs": [],
   "source": [
    "def operation_pandas(dataframe):\n",
    "    result = dataframe.groupby(\"message\").size().sort_values(ascending=False)\n",
    "\n",
    "def operation_spark(dataframe):\n",
    "    result = dataframe.groupBy(\"message\").count().orderBy(\"count\", ascending=False)\n"
   ]
  },
  {
   "cell_type": "markdown",
   "id": "2e09e134",
   "metadata": {},
   "source": [
    "### Measure resource utilization"
   ]
  },
  {
   "cell_type": "code",
   "execution_count": 14,
   "id": "cd1e960a",
   "metadata": {},
   "outputs": [
    {
     "name": "stdout",
     "output_type": "stream",
     "text": [
      "Initial resource usage captured.\n",
      "Operation completed.\n",
      "Final resource usage captured.\n",
      "Initial resource usage captured.\n",
      "Operation completed.\n",
      "Final resource usage captured.\n"
     ]
    }
   ],
   "source": [
    "# Measure resource utilization for Pandas\n",
    "cpu_pd, mem_pd, disk_pd, time_pd = measure_resource_utilization(operation_pandas, pandas_df)\n",
    "\n",
    "# Measure resource utilization for Spark\n",
    "cpu_sp, mem_sp, disk_sp, time_sp = measure_resource_utilization(operation_spark, spark_df)\n"
   ]
  },
  {
   "cell_type": "markdown",
   "id": "35e8db1e",
   "metadata": {},
   "source": [
    "### Resource utilization and performance of Pandas and Spark DataFrames based on the calculated metrics"
   ]
  },
  {
   "cell_type": "code",
   "execution_count": 15,
   "id": "2b4aa65b",
   "metadata": {},
   "outputs": [
    {
     "name": "stdout",
     "output_type": "stream",
     "text": [
      "Pandas - CPU: 36.90%, Memory: 52.07 MB, Disk: -0.04 MB, Time: 3.99 s\n",
      "Spark - CPU: 42.90%, Memory: 0.03 MB, Disk: 0.00 MB, Time: 0.02 s\n"
     ]
    }
   ],
   "source": [
    "print(\"Pandas - CPU: {:.2f}%, Memory: {:.2f} MB, Disk: {:.2f} MB, Time: {:.2f} s\".format(\n",
    "    cpu_pd, mem_pd / (1024**2), disk_pd / (1024**2), time_pd))\n",
    "\n",
    "print(\"Spark - CPU: {:.2f}%, Memory: {:.2f} MB, Disk: {:.2f} MB, Time: {:.2f} s\".format(\n",
    "    cpu_sp, mem_sp / (1024**2), disk_sp / (1024**2), time_sp))"
   ]
  }
 ],
 "metadata": {
  "kernelspec": {
   "display_name": "Python 3 (ipykernel)",
   "language": "python",
   "name": "python3"
  },
  "language_info": {
   "codemirror_mode": {
    "name": "ipython",
    "version": 3
   },
   "file_extension": ".py",
   "mimetype": "text/x-python",
   "name": "python",
   "nbconvert_exporter": "python",
   "pygments_lexer": "ipython3",
   "version": "3.10.9"
  }
 },
 "nbformat": 4,
 "nbformat_minor": 5
}
